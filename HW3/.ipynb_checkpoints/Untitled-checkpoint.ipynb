{
 "cells": [
  {
   "cell_type": "code",
   "execution_count": 1,
   "metadata": {},
   "outputs": [],
   "source": [
    "import os\n",
    "import numpy as np\n",
    "import cv2\n",
    "from  matplotlib import pyplot as plt"
   ]
  },
  {
   "cell_type": "code",
   "execution_count": 2,
   "metadata": {},
   "outputs": [],
   "source": [
    "def readfile(path, label):\n",
    "    image_dir = sorted(os.listdir (path)) # 列出所有的檔名\n",
    "    x = np.zeros((len(image_dir), 128, 128 , 3), dtype =np.uint8)\n",
    "    y = np.zeros((len(image_dir)),dtype =np.uint8)\n",
    "    for i, file in enumerate(image_dir):\n",
    "        img = cv2.imread(os.path.join(path, file))\n",
    "        x[i,:,:] = cv2.resize(img,(128,128)) # 轉成128*128\n",
    "        if label:\n",
    "            y[i] = int(file.split(\"_\")[0])\n",
    "    if label:\n",
    "        return x, y\n",
    "    else:\n",
    "        return x"
   ]
  },
  {
   "cell_type": "code",
   "execution_count": 3,
   "metadata": {},
   "outputs": [],
   "source": [
    "train_x, train_y = readfile(\"./training/\", 1)\n",
    "val_x, val_y = readfile(\"./validation/\", 1)\n",
    "test_x = readfile(\"./testing/\", 0)"
   ]
  },
  {
   "cell_type": "code",
   "execution_count": 4,
   "metadata": {},
   "outputs": [
    {
     "name": "stderr",
     "output_type": "stream",
     "text": [
      "Using TensorFlow backend.\n"
     ]
    }
   ],
   "source": [
    "\n",
    "x_img_train_normalize = train_x.astype ('float32') / 255.0\n",
    "x_img_val_normalize = val_x.astype ('float32') / 255.0\n",
    "x_img_test_normalize = test_x.astype ('float32') / 255.0\n",
    "from keras.utils import np_utils\n",
    "y_label_train_OneHot = np_utils.to_categorical(train_y)\n",
    "y_label_val_OneHot = np_utils.to_categorical(val_y)"
   ]
  },
  {
   "cell_type": "code",
   "execution_count": 5,
   "metadata": {},
   "outputs": [
    {
     "name": "stdout",
     "output_type": "stream",
     "text": [
      "(6600, 128, 128, 3)\n",
      "(6600, 11)\n"
     ]
    }
   ],
   "source": [
    "print(x_img_train_normalize.shape)\n",
    "print(y_label_train_OneHot.shape)"
   ]
  },
  {
   "cell_type": "code",
   "execution_count": 6,
   "metadata": {},
   "outputs": [
    {
     "name": "stdout",
     "output_type": "stream",
     "text": [
      "Model: \"sequential_1\"\n",
      "_________________________________________________________________\n",
      "Layer (type)                 Output Shape              Param #   \n",
      "=================================================================\n",
      "conv2d_1 (Conv2D)            (None, 128, 128, 32)      896       \n",
      "_________________________________________________________________\n",
      "dropout_1 (Dropout)          (None, 128, 128, 32)      0         \n",
      "_________________________________________________________________\n",
      "max_pooling2d_1 (MaxPooling2 (None, 64, 64, 32)        0         \n",
      "_________________________________________________________________\n",
      "conv2d_2 (Conv2D)            (None, 64, 64, 64)        18496     \n",
      "_________________________________________________________________\n",
      "dropout_2 (Dropout)          (None, 64, 64, 64)        0         \n",
      "_________________________________________________________________\n",
      "max_pooling2d_2 (MaxPooling2 (None, 32, 32, 64)        0         \n",
      "_________________________________________________________________\n",
      "flatten_1 (Flatten)          (None, 65536)             0         \n",
      "_________________________________________________________________\n",
      "dropout_3 (Dropout)          (None, 65536)             0         \n",
      "_________________________________________________________________\n",
      "dense_1 (Dense)              (None, 1024)              67109888  \n",
      "_________________________________________________________________\n",
      "dropout_4 (Dropout)          (None, 1024)              0         \n",
      "_________________________________________________________________\n",
      "dense_2 (Dense)              (None, 11)                11275     \n",
      "=================================================================\n",
      "Total params: 67,140,555\n",
      "Trainable params: 67,140,555\n",
      "Non-trainable params: 0\n",
      "_________________________________________________________________\n",
      "None\n"
     ]
    }
   ],
   "source": [
    "from keras.models import Sequential\n",
    "from keras.layers import Dense, Dropout, Activation, Flatten\n",
    "from keras.layers import Conv2D, MaxPool2D, ZeroPadding2D\n",
    "\n",
    "model = Sequential()\n",
    "\n",
    "model.add(Conv2D(filters=32, kernel_size=(3,3),\n",
    "                            input_shape=(128,128,3),\n",
    "                            activation = 'relu',\n",
    "                            padding='same'))\n",
    "model.add(Dropout(rate=0.5))\n",
    "model.add(MaxPool2D(pool_size=(2,2)))\n",
    "\n",
    "model.add(Conv2D(filters=64, kernel_size=(3, 3), \n",
    "                 activation='relu', padding='same'))\n",
    "model.add(Dropout(rate=0.5))\n",
    "model.add(MaxPool2D(pool_size=(2,2)))\n",
    "\n",
    "\n",
    "model.add(Flatten())\n",
    "model.add(Dropout(rate=0.5))\n",
    "\n",
    "model.add(Dense(1024, activation=\"relu\"))\n",
    "model.add(Dropout(0.5)) \n",
    "\n",
    "model.add(Dense(11,activation='softmax'))\n",
    "\n",
    "\n",
    "print(model.summary())\n"
   ]
  },
  {
   "cell_type": "code",
   "execution_count": 7,
   "metadata": {},
   "outputs": [
    {
     "name": "stdout",
     "output_type": "stream",
     "text": [
      "Train on 6600 samples, validate on 2200 samples\n",
      "Epoch 1/20\n",
      "6600/6600 [==============================] - 15s 2ms/step - loss: 7.0921 - accuracy: 0.1630 - val_loss: 2.2223 - val_accuracy: 0.2909\n",
      "Epoch 2/20\n",
      "6600/6600 [==============================] - 13s 2ms/step - loss: 2.0046 - accuracy: 0.3015 - val_loss: 2.1162 - val_accuracy: 0.2918\n",
      "Epoch 3/20\n",
      "6600/6600 [==============================] - 13s 2ms/step - loss: 1.8867 - accuracy: 0.3485 - val_loss: 2.0355 - val_accuracy: 0.3132\n",
      "Epoch 4/20\n",
      "6600/6600 [==============================] - 13s 2ms/step - loss: 1.7644 - accuracy: 0.3915 - val_loss: 1.9601 - val_accuracy: 0.3591\n",
      "Epoch 5/20\n",
      "6600/6600 [==============================] - 13s 2ms/step - loss: 1.6630 - accuracy: 0.4279 - val_loss: 1.9427 - val_accuracy: 0.3677\n",
      "Epoch 6/20\n",
      "6600/6600 [==============================] - 13s 2ms/step - loss: 1.5522 - accuracy: 0.4688 - val_loss: 1.9100 - val_accuracy: 0.3773\n",
      "Epoch 7/20\n",
      "6600/6600 [==============================] - 13s 2ms/step - loss: 1.4067 - accuracy: 0.5142 - val_loss: 1.8388 - val_accuracy: 0.3936\n",
      "Epoch 8/20\n",
      "6600/6600 [==============================] - 13s 2ms/step - loss: 1.2690 - accuracy: 0.5623 - val_loss: 1.8268 - val_accuracy: 0.4109\n",
      "Epoch 9/20\n",
      "6600/6600 [==============================] - 13s 2ms/step - loss: 1.1443 - accuracy: 0.6136 - val_loss: 1.8026 - val_accuracy: 0.4082\n",
      "Epoch 10/20\n",
      "6600/6600 [==============================] - 13s 2ms/step - loss: 1.0014 - accuracy: 0.6662 - val_loss: 1.7998 - val_accuracy: 0.4086\n",
      "Epoch 11/20\n",
      "6600/6600 [==============================] - 13s 2ms/step - loss: 0.8749 - accuracy: 0.7032 - val_loss: 1.7797 - val_accuracy: 0.4005\n",
      "Epoch 12/20\n",
      "6600/6600 [==============================] - 13s 2ms/step - loss: 0.7521 - accuracy: 0.7464 - val_loss: 1.8020 - val_accuracy: 0.4091\n",
      "Epoch 13/20\n",
      "6600/6600 [==============================] - 13s 2ms/step - loss: 0.6411 - accuracy: 0.7841 - val_loss: 1.7812 - val_accuracy: 0.4018\n",
      "Epoch 14/20\n",
      "6600/6600 [==============================] - 13s 2ms/step - loss: 0.5797 - accuracy: 0.8067 - val_loss: 1.7833 - val_accuracy: 0.4123\n",
      "Epoch 15/20\n",
      "6600/6600 [==============================] - 13s 2ms/step - loss: 0.4791 - accuracy: 0.8429 - val_loss: 1.7913 - val_accuracy: 0.4055\n",
      "Epoch 16/20\n",
      "6600/6600 [==============================] - 13s 2ms/step - loss: 0.4127 - accuracy: 0.8692 - val_loss: 1.7937 - val_accuracy: 0.4027\n",
      "Epoch 17/20\n",
      "6600/6600 [==============================] - 13s 2ms/step - loss: 0.3607 - accuracy: 0.8830 - val_loss: 1.7799 - val_accuracy: 0.4073\n",
      "Epoch 18/20\n",
      "6600/6600 [==============================] - 13s 2ms/step - loss: 0.3135 - accuracy: 0.9000 - val_loss: 1.8126 - val_accuracy: 0.4055\n",
      "Epoch 19/20\n",
      "6600/6600 [==============================] - 13s 2ms/step - loss: 0.3033 - accuracy: 0.9032 - val_loss: 1.7894 - val_accuracy: 0.4136\n",
      "Epoch 20/20\n",
      "6600/6600 [==============================] - 13s 2ms/step - loss: 0.2525 - accuracy: 0.9221 - val_loss: 1.8368 - val_accuracy: 0.4032\n"
     ]
    }
   ],
   "source": [
    "model.compile(loss=\"categorical_crossentropy\",\n",
    "    optimizer=\"adam\", metrics=['accuracy'])\n",
    "\n",
    "                 \n",
    "train_histoty=model.fit(x_img_train_normalize, y_label_train_OneHot, \n",
    "                validation_data=(x_img_val_normalize, y_label_val_OneHot),\n",
    "                epochs=50, batch_size=128, verbose=1)\n"
   ]
  },
  {
   "cell_type": "code",
   "execution_count": 8,
   "metadata": {},
   "outputs": [],
   "source": [
    "import matplotlib.pyplot as plt\n",
    "def show_train_history(train_acc,test_acc):\n",
    "    plt.plot(train_histoty.history[train_acc])\n",
    "    plt.plot(train_histoty.history[test_acc])\n",
    "    plt.title('Train History')\n",
    "    plt.ylabel('Accuracy')\n",
    "    plt.xlabel('Epoch')\n",
    "    plt.legend(['train', 'val'], loc='upper left')\n",
    "    plt.show()"
   ]
  },
  {
   "cell_type": "code",
   "execution_count": 9,
   "metadata": {},
   "outputs": [
    {
     "data": {
      "image/png": "[encoded data removed]",
      "text/plain": [
       "<Figure size 432x288 with 1 Axes>"
      ]
     },
     "metadata": {
      "needs_background": "light"
     },
     "output_type": "display_data"
    }
   ],
   "source": [
    "show_train_history('accuracy','val_accuracy')"
   ]
  },
  {
   "cell_type": "code",
   "execution_count": 10,
   "metadata": {},
   "outputs": [
    {
     "data": {
      "image/png": "[encoded data removed]",
      "text/plain": [
       "<Figure size 432x288 with 1 Axes>"
      ]
     },
     "metadata": {
      "needs_background": "light"
     },
     "output_type": "display_data"
    }
   ],
   "source": [
    "show_train_history('loss','val_loss')"
   ]
  },
  {
   "cell_type": "code",
   "execution_count": 11,
   "metadata": {},
   "outputs": [
    {
     "data": {
      "text/plain": [
       "0.09272727370262146"
      ]
     },
     "execution_count": 11,
     "metadata": {},
     "output_type": "execute_result"
    }
   ],
   "source": [
    "scores = model.evaluate(x_img_test_normalize, \n",
    "                        y_label_val_OneHot, verbose=0)\n",
    "scores[1]"
   ]
  },
  {
   "cell_type": "code",
   "execution_count": 12,
   "metadata": {},
   "outputs": [],
   "source": [
    "prediction=model.predict_classes(x_img_val_normalize)"
   ]
  },
  {
   "cell_type": "code",
   "execution_count": 13,
   "metadata": {},
   "outputs": [
    {
     "data": {
      "text/plain": [
       "array([ 0,  0,  9,  0,  0,  3,  0, 10, 10, 10], dtype=int64)"
      ]
     },
     "execution_count": 13,
     "metadata": {},
     "output_type": "execute_result"
    }
   ],
   "source": [
    "prediction[:10]"
   ]
  },
  {
   "cell_type": "code",
   "execution_count": 35,
   "metadata": {},
   "outputs": [],
   "source": [
    "label_dict={\"Back ribs\": 0, \"Bibimbap\" : 1,\n",
    "\"Cheesecake\": 2, \"Chicken wings\": 3, \"Sandwich\": 4, \"Cup cake\": 5, \"Donuts\": 6,\n",
    "\"Dumplings\": 7, \"Edamame\": 8, \"Fried rice\": 9, \"Hamburger\": 10}"
   ]
  },
  {
   "cell_type": "code",
   "execution_count": null,
   "metadata": {},
   "outputs": [],
   "source": []
  }
 ],
 "metadata": {
  "kernelspec": {
   "display_name": "Python 3",
   "language": "python",
   "name": "python3"
  },
  "language_info": {
   "codemirror_mode": {
    "name": "ipython",
    "version": 3
   },
   "file_extension": ".py",
   "mimetype": "text/x-python",
   "name": "python",
   "nbconvert_exporter": "python",
   "pygments_lexer": "ipython3",
   "version": "3.7.7"
  }
 },
 "nbformat": 4,
 "nbformat_minor": 4
}
