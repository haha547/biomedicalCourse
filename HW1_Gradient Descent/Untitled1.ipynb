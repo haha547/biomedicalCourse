{
 "cells": [
  {
   "cell_type": "code",
   "execution_count": 128,
   "metadata": {},
   "outputs": [],
   "source": [
    "import pandas as pd\n",
    "import numpy as np\n",
    "from libary import gradientDescentMulti, computeCostMulti\n",
    "df = pd.read_csv(\"/Users/xuhaozhe/Desktop/AIinBiomedical/HW1_Gradient Descent/train.csv\")\n",
    "data = df.to_numpy()\n",
    "data = np.delete(data, [0,1,2], axis=1)\n",
    "data = np.split(data, 240, axis=0)\n",
    "for i in range(239):\n",
    "    data[0] = np.concatenate((data[0],data[i+1]), axis = 1)\n",
    "Y = data[0][9][9:].reshape(-1, 1)\n",
    "X = data[0]\n",
    "weight = np.zeros((162,1))\n",
    "learning_rate = 0.001\n",
    "num_iter = 100"
   ]
  },
  {
   "cell_type": "code",
   "execution_count": 129,
   "metadata": {},
   "outputs": [],
   "source": [
    "a = np.ones((162,1))\n",
    "for i in range(5751):\n",
    "    a= np.hstack((a, X.T[i:i+9].reshape(-1,1)))\n",
    "X = np.delete(a,[0], axis =1).T\n",
    "\n",
    "np.save(\"X\", X)\n",
    "np.save(\"Y\", Y)\n"
   ]
  },
  {
   "cell_type": "code",
   "execution_count": 130,
   "metadata": {},
   "outputs": [
    {
     "name": "stdout",
     "output_type": "stream",
     "text": [
      "(5751, 163)\n"
     ]
    }
   ],
   "source": [
    "m = len(Y)\n",
    "X = np.vstack((np.ones(m), X.T)).T\n",
    "print(X.shape)\n",
    "\n",
    "\n"
   ]
  },
  {
   "cell_type": "code",
   "execution_count": 131,
   "metadata": {},
   "outputs": [],
   "source": [
    "np.save(\"X\", X)\n",
    "np.save(\"Y\", Y)"
   ]
  },
  {
   "cell_type": "code",
   "execution_count": 123,
   "metadata": {},
   "outputs": [],
   "source": [
    "\n",
    "\n",
    "\n",
    "def loss(X, Y, weight):\n",
    "    return np.dot(X.T, weight) - Y\n",
    "\n",
    "def gradient_Descent(X, Y, weight, learning_rate, num_iter):\n",
    "    loss_history = np.zeros((num_iter, 1))\n",
    "    for iter in range(num_iter):\n",
    "        gradient = 0\n",
    "        error = loss(X, Y, weight)\n",
    "        loss_history[iter][0] = np.mean(error) \n",
    "        gradient = 2 * np.dot(X, error)\n",
    "        weight = weight - learning_rate * gradient\n",
    "    return loss_history, weight\n",
    "    "
   ]
  }
 ],
 "metadata": {
  "kernelspec": {
   "display_name": "Python 3",
   "language": "python",
   "name": "python3"
  }
 },
 "nbformat": 4,
 "nbformat_minor": 4
}
