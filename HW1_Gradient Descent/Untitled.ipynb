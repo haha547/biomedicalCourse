{
 "cells": [
  {
   "cell_type": "code",
   "execution_count": 2,
   "metadata": {},
   "outputs": [],
   "source": [
    "import numpy as np\n",
    "def featureNormalize(X):\n",
    "    \n",
    "    mu = np.mean(X, axis=0)\n",
    "    sigma = np.std(X, axis=0)\n",
    "\n",
    "    return (X-mu)/sigma, mu, sigma"
   ]
  },
  {
   "cell_type": "code",
   "execution_count": 3,
   "metadata": {},
   "outputs": [],
   "source": [
    "def computeCostMulti(X, y, theta):\n",
    "    \n",
    "    # Initialize some useful values\n",
    "    m = len(y) # number of training examples\n",
    "\n",
    "    error = np.dot(X,theta) - y\n",
    "    J = np.dot(error.T, error) /m/2\n",
    "\n",
    "    return J"
   ]
  },
  {
   "cell_type": "code",
   "execution_count": 4,
   "metadata": {},
   "outputs": [],
   "source": [
    "def gradientDescentMulti(X, y, theta, alpha, num_iters):\n",
    "    \n",
    "    # Initialize some useful values\n",
    "    m = len(y) # number of training examples\n",
    "    J_history = np.zeros((num_iters, 1))\n",
    "\n",
    "    for iter in range(num_iters):\n",
    "\n",
    "        error = np.dot(X,theta) - y\n",
    "        theta = theta - alpha * np.dot(X.T,error) / m\n",
    "\n",
    "        J_history[iter][0] = computeCostMulti(X, y, theta)\n",
    "\n",
    "    return theta, J_history"
   ]
  },
  {
   "cell_type": "code",
   "execution_count": 15,
   "metadata": {},
   "outputs": [
    {
     "name": "stdout",
     "output_type": "stream",
     "text": [
      "Loading data ...\n",
      "\n",
      "First 10 examples from the dataset: \n",
      "\n",
      "[[2.104e+03 3.000e+00]\n",
      " [1.600e+03 3.000e+00]\n",
      " [2.400e+03 3.000e+00]\n",
      " [1.416e+03 2.000e+00]\n",
      " [3.000e+03 4.000e+00]\n",
      " [1.985e+03 4.000e+00]\n",
      " [1.534e+03 3.000e+00]\n",
      " [1.427e+03 3.000e+00]\n",
      " [1.380e+03 3.000e+00]\n",
      " [1.494e+03 3.000e+00]]\n",
      "[[399900.]\n",
      " [329900.]\n",
      " [369000.]\n",
      " [232000.]\n",
      " [539900.]\n",
      " [299900.]\n",
      " [314900.]\n",
      " [198999.]\n",
      " [212000.]\n",
      " [242500.]]\n"
     ]
    },
    {
     "name": "stdin",
     "output_type": "stream",
     "text": [
      "Program paused. Press enter to continue.\n",
      " \n"
     ]
    },
    {
     "name": "stdout",
     "output_type": "stream",
     "text": [
      "Normalizing Features ...\n",
      "\n",
      "[[ 1.31415422e-01 -2.26093368e-01]\n",
      " [-5.09640698e-01 -2.26093368e-01]\n",
      " [ 5.07908699e-01 -2.26093368e-01]\n",
      " [-7.43677059e-01 -1.55439190e+00]\n",
      " [ 1.27107075e+00  1.10220517e+00]\n",
      " [-1.99450507e-02  1.10220517e+00]\n",
      " [-5.93588523e-01 -2.26093368e-01]\n",
      " [-7.29685755e-01 -2.26093368e-01]\n",
      " [-7.89466782e-01 -2.26093368e-01]\n",
      " [-6.44465993e-01 -2.26093368e-01]\n",
      " [-7.71822042e-02  1.10220517e+00]\n",
      " [-8.65999486e-04 -2.26093368e-01]\n",
      " [-1.40779041e-01 -2.26093368e-01]\n",
      " [ 3.15099326e+00  2.43050370e+00]\n",
      " [-9.31923697e-01 -2.26093368e-01]\n",
      " [ 3.80715024e-01  1.10220517e+00]\n",
      " [-8.65782986e-01 -1.55439190e+00]\n",
      " [-9.72625673e-01 -2.26093368e-01]\n",
      " [ 7.73743478e-01  1.10220517e+00]\n",
      " [ 1.31050078e+00  1.10220517e+00]\n",
      " [-2.97227261e-01 -2.26093368e-01]\n",
      " [-1.43322915e-01 -1.55439190e+00]\n",
      " [-5.04552951e-01 -2.26093368e-01]\n",
      " [-4.91995958e-02  1.10220517e+00]\n",
      " [ 2.40309445e+00 -2.26093368e-01]\n",
      " [-1.14560907e+00 -2.26093368e-01]\n",
      " [-6.90255715e-01 -2.26093368e-01]\n",
      " [ 6.68172729e-01 -2.26093368e-01]\n",
      " [ 2.53521350e-01 -2.26093368e-01]\n",
      " [ 8.09357707e-01 -2.26093368e-01]\n",
      " [-2.05647815e-01 -1.55439190e+00]\n",
      " [-1.27280274e+00 -2.88269044e+00]\n",
      " [ 5.00114703e-02  1.10220517e+00]\n",
      " [ 1.44532608e+00 -2.26093368e-01]\n",
      " [-2.41262044e-01  1.10220517e+00]\n",
      " [-7.16966387e-01 -2.26093368e-01]\n",
      " [-9.68809863e-01 -2.26093368e-01]\n",
      " [ 1.67029651e-01  1.10220517e+00]\n",
      " [ 2.81647389e+00  1.10220517e+00]\n",
      " [ 2.05187753e-01  1.10220517e+00]\n",
      " [-4.28236746e-01 -1.55439190e+00]\n",
      " [ 3.01854946e-01 -2.26093368e-01]\n",
      " [ 7.20322135e-01  1.10220517e+00]\n",
      " [-1.01841540e+00 -2.26093368e-01]\n",
      " [-1.46104938e+00 -1.55439190e+00]\n",
      " [-1.89112638e-01  1.10220517e+00]\n",
      " [-1.01459959e+00 -2.26093368e-01]]\n"
     ]
    }
   ],
   "source": [
    "print('Loading data ...\\n')\n",
    "\n",
    "## Load Data\n",
    "data = np.loadtxt('G:\\Coursera-Machine-Learning\\ml-ex1\\ex1data2.txt',delimiter=\",\")\n",
    "X = data[:, 0:2]\n",
    "y = data[:, 2].reshape(-1,1)\n",
    "m = len(y)\n",
    "\n",
    "# Print out some data points\n",
    "print('First 10 examples from the dataset: \\n')\n",
    "# no find function for python\n",
    "# fprintf(' x = [%.0f %.0f], y = %.0f \\n', [X(1:10,:) y(1:10,:)]');\n",
    "print(X[0:10,:])\n",
    "print(y[0:10])\n",
    "\n",
    "input('Program paused. Press enter to continue.\\n')\n",
    "\n",
    "# Scale features and set them to zero mean\n",
    "print('Normalizing Features ...\\n')\n",
    "\n",
    "X, mu, sigma = featureNormalize(X)\n",
    "print(X)\n",
    "# Add intercept term to X\n",
    "X = np.vstack((np.ones(m), X.T)).T"
   ]
  },
  {
   "cell_type": "code",
   "execution_count": 22,
   "metadata": {},
   "outputs": [],
   "source": [
    "def ones(m):\n",
    "    b =[]\n",
    "    for i in range(m):\n",
    "        b.append(1.0)\n",
    "    return b\n",
    "b = ones(3)"
   ]
  },
  {
   "cell_type": "code",
   "execution_count": 28,
   "metadata": {},
   "outputs": [
    {
     "name": "stdout",
     "output_type": "stream",
     "text": [
      "3\n"
     ]
    }
   ],
   "source": [
    "print(len(b))"
   ]
  },
  {
   "cell_type": "code",
   "execution_count": 29,
   "metadata": {},
   "outputs": [],
   "source": [
    "def transpose(m):\n",
    "    rows = len(m)\n",
    "    cols = len(m[0])\n",
    "    MT = zero_matrix(cols, rows)\n",
    "    for i in range(rows):\n",
    "        for j in range(cols):\n",
    "            MT[j][i] = m[i][j]\n",
    "    \n",
    "    return MT"
   ]
  },
  {
   "cell_type": "code",
   "execution_count": 33,
   "metadata": {},
   "outputs": [
    {
     "name": "stdout",
     "output_type": "stream",
     "text": [
      "[['a', 'b', 'c', 'd', 'e']]\n",
      "1\n"
     ]
    }
   ],
   "source": [
    "def createMatrix(rowCount, colCount, dataList):\n",
    "    mat = []\n",
    "    for i in range(rowCount):\n",
    "        rowList = []\n",
    "        for j in range(colCount):\n",
    "            # you need to increment through dataList here, like this:\n",
    "            rowList.append(dataList[rowCount * i + j])\n",
    "        mat.append(rowList)\n",
    "\n",
    "    return mat\n",
    "def main():\n",
    "    alpha = ['a','b','c','d','e','f','h','i','j','k','l','m','n','o','p','q','r','s','t','u','v','w','x','y','z']\n",
    "    mat = createMatrix(1,5,alpha)\n",
    "    print (mat)\n",
    "    print(len(mat))\n",
    "main()"
   ]
  },
  {
   "cell_type": "code",
   "execution_count": 31,
   "metadata": {},
   "outputs": [
    {
     "ename": "NameError",
     "evalue": "name 'mat' is not defined",
     "output_type": "error",
     "traceback": [
      "\u001b[1;31m---------------------------------------------------------------------------\u001b[0m",
      "\u001b[1;31mNameError\u001b[0m                                 Traceback (most recent call last)",
      "\u001b[1;32m<ipython-input-31-980b5721656b>\u001b[0m in \u001b[0;36m<module>\u001b[1;34m\u001b[0m\n\u001b[1;32m----> 1\u001b[1;33m \u001b[0mprint\u001b[0m\u001b[1;33m(\u001b[0m\u001b[0mlen\u001b[0m\u001b[1;33m(\u001b[0m\u001b[0mmat\u001b[0m\u001b[1;33m)\u001b[0m\u001b[1;33m)\u001b[0m\u001b[1;33m\u001b[0m\u001b[1;33m\u001b[0m\u001b[0m\n\u001b[0m",
      "\u001b[1;31mNameError\u001b[0m: name 'mat' is not defined"
     ]
    }
   ],
   "source": [
    "print(len(mat))"
   ]
  },
  {
   "cell_type": "code",
   "execution_count": null,
   "metadata": {},
   "outputs": [],
   "source": []
  }
 ],
 "metadata": {
  "kernelspec": {
   "display_name": "Python 3",
   "language": "python",
   "name": "python3"
  },
  "language_info": {
   "codemirror_mode": {
    "name": "ipython",
    "version": 3
   },
   "file_extension": ".py",
   "mimetype": "text/x-python",
   "name": "python",
   "nbconvert_exporter": "python",
   "pygments_lexer": "ipython3",
   "version": "3.7.3"
  }
 },
 "nbformat": 4,
 "nbformat_minor": 4
}
