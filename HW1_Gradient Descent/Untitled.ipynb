{
 "cells": [
  {
   "cell_type": "code",
   "execution_count": 1,
   "metadata": {},
   "outputs": [],
   "source": [
    "import pandas as pd\n",
    "import numpy as np\n",
    "learning_rate = 0.01\n",
    "weight_vector = np.zeros((19,1))\n",
    "iteration_times = 10000\n",
    "df = pd.read_csv(\"/Users/xuhaozhe/Desktop/AIinBiomedical/HW1_Gradient Descent/train.csv\")\n",
    "feature =[[],[],[],[],[],[],[],[],[],[],[],[],[],[],[],[],[],[]]\n",
    "count = 0\n",
    "for i in range(4320):\n",
    "    feature[i%18][count:] = df.values[i][3:]\n",
    "    count += 24\n",
    "train_x= np.zeros((5751,18))\n",
    "train_y= np.zeros((5751,1))\n",
    "for i in range(5751):\n",
    "    train_y[i] = (feature[9][i+9]) \n",
    "    for j in range(18):\n",
    "        train_x[i][j] = np.mean(feature[j][i:i+9])\n",
    "\n",
    "\n",
    "m = len(train_y)\n",
    "X = np.vstack((np.ones(m), train_x.T)).T\n"
   ]
  },
  {
   "cell_type": "code",
   "execution_count": 13,
   "metadata": {},
   "outputs": [
    {
     "name": "stdout",
     "output_type": "stream",
     "text": [
      "(5751, 1)\n",
      "[[0.5078882]]\n"
     ]
    }
   ],
   "source": [
    "theta = np.zeros((19, 1))\n",
    "def computeCostMulti(X, y, theta):\n",
    "    # Initialize some useful values\n",
    "    m = len(y) # number of training examples\n",
    "    error = np.dot(X,theta) - y\n",
    "    print(error.shape)\n",
    "    J = np.dot(error.T, error) /m/2\n",
    "    print(J)\n",
    "    return J\n",
    "\n",
    "def gradientDescentMulti(X, y, theta, alpha, num_iters):\n",
    "    \n",
    "    # Initialize some useful values\n",
    "    m = len(y) # number of training examples\n",
    "    J_history = np.zeros((num_iters, 1))\n",
    "\n",
    "    for iter in range(num_iters):\n",
    "\n",
    "        error = np.dot(X,theta) - y\n",
    "        theta = theta - alpha * np.dot(X.T,error) / m\n",
    "        J_history[iter][0] = computeCostMulti(X, y, theta)\n",
    "\n",
    "    return theta, J_history\n",
    "theta, J_history = gradientDescentMulti(X, train_y, theta, 0.01, 1)"
   ]
  },
  {
   "cell_type": "code",
   "execution_count": 7,
   "metadata": {},
   "outputs": [
    {
     "data": {
      "text/plain": [
       "Text(0, 0.5, 'Cost J')"
      ]
     },
     "execution_count": 7,
     "metadata": {},
     "output_type": "execute_result"
    },
    {
     "data": {
      "image/png": "[encoded data removed]",
      "text/plain": [
       "<Figure size 432x288 with 1 Axes>"
      ]
     },
     "metadata": {
      "needs_background": "light"
     },
     "output_type": "display_data"
    }
   ],
   "source": [
    "import matplotlib.pyplot as plt\n",
    "plt.ion()\n",
    "plt.figure()\n",
    "plt.plot(np.arange(0,J_history.size,1), J_history, '-g')\n",
    "plt.xlabel('Number of iterations')\n",
    "plt.ylabel('Cost J')\n"
   ]
  },
  {
   "cell_type": "code",
   "execution_count": 8,
   "metadata": {},
   "outputs": [
    {
     "name": "stdout",
     "output_type": "stream",
     "text": [
      "[[0.5078882]]\n"
     ]
    }
   ],
   "source": [
    "print(J_history)"
   ]
  }
 ],
 "metadata": {
  "kernelspec": {
   "display_name": "Python 3",
   "language": "python",
   "name": "python3"
  },
  "language_info": {
   "codemirror_mode": {
    "name": "ipython",
    "version": 3
   },
   "file_extension": ".py",
   "mimetype": "text/x-python",
   "name": "python",
   "nbconvert_exporter": "python",
   "pygments_lexer": "ipython3",
   "version": "3.7.4"
  }
 },
 "nbformat": 4,
 "nbformat_minor": 4
}
