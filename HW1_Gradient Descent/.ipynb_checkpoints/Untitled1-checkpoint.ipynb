{
 "cells": [
  {
   "cell_type": "code",
   "execution_count": 1,
   "metadata": {},
   "outputs": [],
   "source": [
    "def zeros(rows,cols):\n",
    "    c = [[0.]*cols for i in range(rows)]\n",
    "    return c\n",
    "\n",
    "def ones(rows,cols):\n",
    "    c = [[1.]*cols for i in range(rows)]\n",
    "    return c\n",
    "\n",
    "def matrixADD(A,B):\n",
    "    rows_A = len(A)\n",
    "    rows_B = len(B)\n",
    "    cols_A = len(A[0])\n",
    "    cols_B = len(B[0])\n",
    "    if rows_A != rows_B or cols_A != cols_B:\n",
    "        raise ArithmeticError('Matrices are NOT the same size.')\n",
    "    c = zeros(rows_A, cols_A)\n",
    "    for i in range(rows_A):\n",
    "        for j in range(cols_A):\n",
    "            c[i][j] = A[i][j] + B[i][j]\n",
    "    return c\n",
    "\n",
    "def matrixSUB(A,B):\n",
    "    rows_A = len(A)\n",
    "    rows_B = len(B)\n",
    "    cols_A = len(A[0])\n",
    "    cols_B = len(B[0])\n",
    "    if rows_A != rows_B or cols_A != cols_B:\n",
    "        raise ArithmeticError('Matrices are NOT the same size.')\n",
    "    c = zeros(rows_A, cols_A)\n",
    "    for i in range(rows_A):\n",
    "        for j in range(cols_A):\n",
    "            c[i][j] = A[i][j] - B[i][j]\n",
    "    return c\n",
    "\n",
    "def matrixMlit(A,B):\n",
    "    rows_A = len(A)\n",
    "    rows_B = len(B)\n",
    "    cols_A = len(A[0])\n",
    "    cols_B = len(B[0])\n",
    "    if cols_A != rows_B:\n",
    "        raise ArithmeticError('Matrices are NOT the same size.')\n",
    "    c = zeros(rows_A, cols_B)\n",
    "    for i in range(rows_A):\n",
    "        for j in range(cols_B):\n",
    "            for k in range(cols_A):\n",
    "                c [i][j] += A[i][k] * B[k][j]\n",
    "    return c\n",
    "\n",
    "def meanList(a):\n",
    "    count = 0\n",
    "    for i in a :\n",
    "        count += i\n",
    "    return count/len(a)\n",
    "\n",
    "def tranpose(A):\n",
    "    if type(A[0]) != list:\n",
    "        c = zeros[A[0], 1]\n",
    "        return c\n",
    "    \n",
    "    else:\n",
    "        rows = len(A)\n",
    "        cols = len(A[0])\n",
    "        c = zeros(cols, rows)\n",
    "        for i in range(cols):\n",
    "            for j in range(rows):\n",
    "                c[i][j] = a[j][i]\n",
    "        return c\n",
    "    \n"
   ]
  },
  {
   "cell_type": "code",
   "execution_count": 2,
   "metadata": {},
   "outputs": [],
   "source": [
    "import pandas as pd\n",
    "learning_rate = 0.01\n",
    "weight_vector = zeros(19,1)\n",
    "iteration_times = 10000\n",
    "df = pd.read_csv(\"/Users/xuhaozhe/Desktop/AIinBiomedical/HW1_Gradient Descent/train.csv\")\n",
    "feature =[[],[],[],[],[],[],[],[],[],[],[],[],[],[],[],[],[],[]]\n",
    "count = 0\n",
    "for i in range(4320):\n",
    "    feature[i%18][count:] = df.values[i][3:]\n",
    "    count += 24"
   ]
  },
  {
   "cell_type": "code",
   "execution_count": 6,
   "metadata": {},
   "outputs": [],
   "source": [
    "train_x = zeros(19,5751)\n",
    "train_y = zeros(5751,1)"
   ]
  },
  {
   "cell_type": "code",
   "execution_count": 7,
   "metadata": {},
   "outputs": [],
   "source": [
    "for i in range(5751):\n",
    "    train_y[i] = feature[9][i+9]\n",
    "    train_x[0][i] = 1.0\n",
    "    for j in range(1,19):\n",
    "        train_x[j][i] = meanList(feature[j-1][i:i+9])"
   ]
  },
  {
   "cell_type": "code",
   "execution_count": 23,
   "metadata": {},
   "outputs": [
    {
     "name": "stdout",
     "output_type": "stream",
     "text": [
      "-0.9475545890000001\n",
      "0.9475545890000001\n"
     ]
    }
   ],
   "source": [
    "print(train_y[0])\n",
    "for i in range(19):\n",
    "    a = (train_x[i][0] * weight_vector[i][0] - train_y[0] )\n",
    "print(a)\n",
    "    "
   ]
  },
  {
   "cell_type": "code",
   "execution_count": 14,
   "metadata": {},
   "outputs": [],
   "source": [
    "weight_vector = zeros(19, 1)\n",
    "def error_G(X, y, theta):\n",
    "    error = []\n",
    "    for j in range(len(X[0])):\n",
    "        for i in range(len(X)):\n",
    "            error.append(X[i][j] * theta[i][0] - y[j])\n",
    "    return error\n",
    "\n",
    "def computeCoss(X, y, theta):\n",
    "    error = error_G(X, y, theta)\n",
    "    J = 0.\n",
    "    for i in range(len(error)):\n",
    "        J += error[i]**2\n",
    "    print(J / len(train_y) / 2)\n",
    "    "
   ]
  },
  {
   "cell_type": "code",
   "execution_count": null,
   "metadata": {},
   "outputs": [],
   "source": []
  },
  {
   "cell_type": "code",
   "execution_count": 170,
   "metadata": {},
   "outputs": [],
   "source": [
    "def gradientDescentMulti(X, y, theta, alpha, num_iters):\n",
    "        \n",
    "    # Initialize some useful values\n",
    "    m = len(y) # number of training examples\n",
    "    J_history = zeros(num_iters, 1)\n",
    "\n",
    "    for iter in range(num_iters):\n",
    "\n",
    "        error = []\n",
    "        for j in range(5751):\n",
    "            X = []\n",
    "            YP = 0.\n",
    "            for i in range(19):\n",
    "                X.append(train_x[i][j])\n",
    "                YP = X[i] * theta[0][i]\n",
    "            error.append(YP - train_y[j])\n",
    "        \n",
    "        theta = theta - alpha * np.dot(X.T,error) / m\n",
    "\n",
    "        J_history[iter][0] = computeCostMulti(X, y, theta)\n",
    "\n",
    "    return theta, J_history"
   ]
  },
  {
   "cell_type": "code",
   "execution_count": null,
   "metadata": {},
   "outputs": [],
   "source": [
    "theta, J_history = gradientDescentMulti(train_x, train_y, weight_vector, 0.01, 1)"
   ]
  },
  {
   "cell_type": "code",
   "execution_count": null,
   "metadata": {},
   "outputs": [],
   "source": []
  },
  {
   "cell_type": "code",
   "execution_count": null,
   "metadata": {},
   "outputs": [],
   "source": []
  }
 ],
 "metadata": {
  "kernelspec": {
   "display_name": "Python 3",
   "language": "python",
   "name": "python3"
  },
  "language_info": {
   "codemirror_mode": {
    "name": "ipython",
    "version": 3
   },
   "file_extension": ".py",
   "mimetype": "text/x-python",
   "name": "python",
   "nbconvert_exporter": "python",
   "pygments_lexer": "ipython3",
   "version": "3.7.4"
  }
 },
 "nbformat": 4,
 "nbformat_minor": 4
}
