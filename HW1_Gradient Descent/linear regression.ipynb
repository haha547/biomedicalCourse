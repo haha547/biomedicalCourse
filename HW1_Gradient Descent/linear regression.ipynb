{
 "cells": [
  {
   "cell_type": "code",
   "execution_count": null,
   "metadata": {},
   "outputs": [],
   "source": [
    "import pandas as pd\n",
    "import numpy as np\n",
    "from libary import gradientDescentMulti, computeCostMulti\n",
    "df = pd.read_csv(\"/Users/xuhaozhe/Desktop/AIinBiomedical/HW1_Gradient Descent/train.csv\")\n",
    "data = df.to_numpy()\n",
    "data = np.delete(data, [0,1,2], axis=1)\n",
    "data = np.split(data, 240, axis=0)\n",
    "for i in range(239):\n",
    "    data[0] = np.concatenate((data[0],data[i+1]), axis = 1)\n",
    "\n",
    "\n",
    "Y = data[0][9].reshape(-1, 1)\n",
    "theta = np.zeros((19, 1))\n",
    "m = len(Y)\n",
    "X = np.vstack((np.ones(m), data[0]))\n",
    "learning_rate = 0.001\n",
    "num_iter = 1000\n"
   ]
  }
 ],
 "metadata": {
  "kernelspec": {
   "display_name": "Python 3",
   "language": "python",
   "name": "python3"
  },
  "language_info": {
   "codemirror_mode": {
    "name": "ipython",
    "version": 3
   },
   "file_extension": ".py",
   "mimetype": "text/x-python",
   "name": "python",
   "nbconvert_exporter": "python",
   "pygments_lexer": "ipython3",
   "version": "3.7.4"
  }
 },
 "nbformat": 4,
 "nbformat_minor": 4
}
