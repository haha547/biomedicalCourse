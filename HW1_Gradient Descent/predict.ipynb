{
 "cells": [
  {
   "cell_type": "code",
   "execution_count": 67,
   "metadata": {},
   "outputs": [],
   "source": [
    "import numpy as np\n",
    "X = np.load(\"X.npy\", allow_pickle = True)\n",
    "test = np.loadtxt(\"test_norm.csv\", dtype=np.float, delimiter=\",\").T\n",
    "weight = np.load(\"weight.npy\", allow_pickle = True)"
   ]
  },
  {
   "cell_type": "code",
   "execution_count": 68,
   "metadata": {},
   "outputs": [],
   "source": [
    "def predict(data, weight):\n",
    "    return np.dot(data, weight)"
   ]
  },
  {
   "cell_type": "code",
   "execution_count": 90,
   "metadata": {},
   "outputs": [],
   "source": [
    "howard_ans = []\n",
    "for j in range(240):\n",
    "    c = test[0][18*j:18*(j+1)]\n",
    "    for i in range(1, 9):\n",
    "        c = np.concatenate((c, test[i][18*j:18*(j+1)]),axis = 0)\n",
    "    c = np.hstack((1., c))\n",
    "    howard_ans.append(predict(c, weight))"
   ]
  },
  {
   "cell_type": "code",
   "execution_count": 91,
   "metadata": {},
   "outputs": [],
   "source": [
    "np.savetxt(\"howard_ans.\", howard_ans, )"
   ]
  },
  {
   "cell_type": "code",
   "execution_count": 81,
   "metadata": {},
   "outputs": [
    {
     "name": "stdout",
     "output_type": "stream",
     "text": [
      "-1.579165492223232\n"
     ]
    }
   ],
   "source": [
    "print(test[0][18])"
   ]
  },
  {
   "cell_type": "code",
   "execution_count": 92,
   "metadata": {},
   "outputs": [
    {
     "name": "stdout",
     "output_type": "stream",
     "text": [
      "[array([-0.41992291630728945], dtype=object), array([-0.2250979166935227], dtype=object), array([0.3047993922551538], dtype=object), array([1.1834472672890213], dtype=object), array([1.7438797135267292], dtype=object), array([1.6632461755591406], dtype=object), array([1.0574847002281238], dtype=object), array([1.2496990071294292], dtype=object), array([0.4840007006759965], dtype=object), array([0.9232609058283723], dtype=object), array([0.8150829730982087], dtype=object), array([-0.1768757439117368], dtype=object), array([-0.10571337476519112], dtype=object), array([0.017004631178143992], dtype=object), array([0.739662595814787], dtype=object), array([-0.036817553371472085], dtype=object), array([-0.05995706742566328], dtype=object), array([-0.32481694265264094], dtype=object), array([0.2635050943810389], dtype=object), array([2.3354324058420315], dtype=object), array([0.7839426881569544], dtype=object), array([0.03741662967243842], dtype=object), array([-0.8074876295521166], dtype=object), array([-0.7631291850425895], dtype=object), array([-0.9742769716535497], dtype=object), array([-0.6597557873048298], dtype=object), array([0.45864938104220887], dtype=object), array([0.09241359447182942], dtype=object), array([-0.12786515477686314], dtype=object), array([0.0924686334167346], dtype=object), array([-0.40436730622718214], dtype=object), array([0.03724621529950646], dtype=object), array([0.0639643057812797], dtype=object), array([0.31833050338049657], dtype=object), array([1.834544521799417], dtype=object), array([1.416552941891355], dtype=object), array([-0.5877561326875033], dtype=object), array([-0.1776806737118843], dtype=object), array([1.3969524774937887], dtype=object), array([0.5187646422590588], dtype=object), array([0.6530276608246017], dtype=object), array([-0.08132118034900163], dtype=object), array([-0.718801843614163], dtype=object), array([-0.015361259423658055], dtype=object), array([-0.15360031576890473], dtype=object), array([-0.3947843846747304], dtype=object), array([-0.14484910068791462], dtype=object), array([-0.07438835617874269], dtype=object), array([0.050930200174995124], dtype=object), array([0.7005077262904065], dtype=object), array([0.6664717416676288], dtype=object), array([1.6791045436605163], dtype=object), array([0.3503450259375191], dtype=object), array([0.06848345219044108], dtype=object), array([1.289552958416299], dtype=object), array([-0.2922844215386407], dtype=object), array([0.25280489034043174], dtype=object), array([0.5073737100574593], dtype=object), array([2.742160147930214], dtype=object), array([-0.02746804496080625], dtype=object), array([-0.5370240319611822], dtype=object), array([0.1577080371900304], dtype=object), array([0.859726356086114], dtype=object), array([0.36574794727508503], dtype=object), array([1.414959592894839], dtype=object), array([1.8575073540825424], dtype=object), array([2.178065257015187], dtype=object), array([0.5087340510407742], dtype=object), array([1.9833632761631543], dtype=object), array([0.7558666054303443], dtype=object), array([-0.6721047745565342], dtype=object), array([0.7121600473512277], dtype=object), array([0.4628974436258755], dtype=object), array([-0.2775115742127561], dtype=object), array([-0.6177293638013919], dtype=object), array([0.6865041127226311], dtype=object), array([0.47647530234709196], dtype=object), array([0.8498510972595561], dtype=object), array([1.8826627769677768], dtype=object), array([0.34069097311199376], dtype=object), array([0.8305123970413999], dtype=object), array([-0.13474079670791575], dtype=object), array([-0.1892026748391885], dtype=object), array([-0.21773194052272155], dtype=object), array([-0.5027460364955594], dtype=object), array([0.03161747957612073], dtype=object), array([-0.13525708355134178], dtype=object), array([0.10643083821070011], dtype=object), array([0.12443660478387439], dtype=object), array([0.8276024881663591], dtype=object), array([0.51625722697784], dtype=object), array([0.10175331114438257], dtype=object), array([1.0916557528256403], dtype=object), array([0.2234113761794395], dtype=object), array([-0.9753032202535752], dtype=object), array([-0.4521719976154469], dtype=object), array([-0.5531184180184955], dtype=object), array([-0.5547213114759024], dtype=object), array([-0.14699205637254817], dtype=object), array([-0.3452763514204509], dtype=object), array([0.4368509793665004], dtype=object), array([0.11774472735803725], dtype=object), array([-1.0351511961533166], dtype=object), array([0.5450982087362126], dtype=object), array([-0.577886164558685], dtype=object), array([-0.5247858314514092], dtype=object), array([-1.1374438598429983], dtype=object), array([-1.1977691686951113], dtype=object), array([-1.0513153382008775], dtype=object), array([-0.5485959988214062], dtype=object), array([-0.1946987156413235], dtype=object), array([-1.0377620906393343], dtype=object), array([-0.6244637150009694], dtype=object), array([-0.3262709501410735], dtype=object), array([0.17767227570974456], dtype=object), array([-0.08332582323277213], dtype=object), array([-0.47749125448782104], dtype=object), array([0.13741561485640827], dtype=object), array([0.1312020874394031], dtype=object), array([0.3880985883019961], dtype=object), array([0.24098071906473928], dtype=object), array([-0.6981145000551473], dtype=object), array([-0.31031506299940886], dtype=object), array([0.16092991738026557], dtype=object), array([-0.7809109544148887], dtype=object), array([-0.33923877360712057], dtype=object), array([-0.7206155167670786], dtype=object), array([-0.2588389425298365], dtype=object), array([-0.2932217031002738], dtype=object), array([-0.1349160195084682], dtype=object), array([0.5125830867085983], dtype=object), array([0.37850063996122846], dtype=object), array([0.7283894711445019], dtype=object), array([-0.29486611397419094], dtype=object), array([-0.003345641305108967], dtype=object), array([-0.03038615005280064], dtype=object), array([0.2944521130400823], dtype=object), array([-1.4041923149157565], dtype=object), array([-1.1783145578530092], dtype=object), array([-0.9931200919843692], dtype=object), array([-1.2041810113371134], dtype=object), array([-1.227137135972542], dtype=object), array([-1.2588470429080976], dtype=object), array([-1.3637465005040108], dtype=object), array([-0.5702703133599389], dtype=object), array([-0.5741311556030924], dtype=object), array([-0.8990187111837229], dtype=object), array([-0.8209953661791262], dtype=object), array([-0.8134525843273996], dtype=object), array([-0.9140251156394477], dtype=object), array([-0.8513797631290063], dtype=object), array([-1.5099734131057214], dtype=object), array([-0.7603193171229268], dtype=object), array([-0.6789818902911121], dtype=object), array([-0.4882833789526154], dtype=object), array([-0.451207605101686], dtype=object), array([-0.7415269986758186], dtype=object), array([-0.8954225723789823], dtype=object), array([-0.9587329658184593], dtype=object), array([-0.9224449938708535], dtype=object), array([0.909810584979121], dtype=object), array([-0.26577024222659845], dtype=object), array([0.04861576910421797], dtype=object), array([-0.0505044040147895], dtype=object), array([-1.4108801972425966], dtype=object), array([-1.3762241269801516], dtype=object), array([-0.2915543398334789], dtype=object), array([-1.0660018083918534], dtype=object), array([-1.3179548073733376], dtype=object), array([-0.6038721422238457], dtype=object), array([-0.5051491246467226], dtype=object), array([-0.45153852285080553], dtype=object), array([-0.07045262110723421], dtype=object), array([-0.2606248299341434], dtype=object), array([0.07302486797815454], dtype=object), array([0.0008377830101685205], dtype=object), array([0.22855802781961065], dtype=object), array([0.09136577324693472], dtype=object), array([0.7139253232890156], dtype=object), array([-0.22115558402576702], dtype=object), array([-1.081764896256615], dtype=object), array([0.2960076370074021], dtype=object), array([0.3000588929166843], dtype=object), array([0.23389846654436797], dtype=object), array([-0.07467327530196209], dtype=object), array([-0.08979577075658005], dtype=object), array([0.8414368465297937], dtype=object), array([-1.0312604398617173], dtype=object), array([-1.0118063064484555], dtype=object), array([0.3259308977063799], dtype=object), array([5.283459090037779], dtype=object), array([2.3136577395100226], dtype=object), array([1.0088777532748299], dtype=object), array([0.5713725999147924], dtype=object), array([-1.1885189194767967], dtype=object), array([-1.186453758770359], dtype=object), array([-1.0884223841552103], dtype=object), array([-0.46054297911162856], dtype=object), array([-0.81344140411527], dtype=object), array([-0.16773555680037788], dtype=object), array([-0.8098742801162135], dtype=object), array([-0.7850879323605969], dtype=object), array([0.07869058384635017], dtype=object), array([-0.22913367288226977], dtype=object), array([-0.2648892879591712], dtype=object), array([-0.38240330173225384], dtype=object), array([-0.9552131535163304], dtype=object), array([-0.29196121969832906], dtype=object), array([-0.5433628999580007], dtype=object), array([-0.683729116093557], dtype=object), array([-1.1826488709000011], dtype=object), array([-0.494178103959889], dtype=object), array([0.007881403620700764], dtype=object), array([-0.5012905836977264], dtype=object), array([-1.055922630945196], dtype=object), array([-0.8914581332595319], dtype=object), array([-0.26953386511039046], dtype=object), array([-0.9086376053275642], dtype=object), array([-0.6645290439382144], dtype=object), array([-0.424722918740114], dtype=object), array([1.8527966530110895], dtype=object), array([-0.28606413357439753], dtype=object), array([0.8842900733794747], dtype=object), array([0.1622619611655316], dtype=object), array([-0.29460306304908973], dtype=object), array([-0.9570430796517877], dtype=object), array([-0.6881241213248562], dtype=object), array([-0.2602858814447782], dtype=object), array([-1.0543224822768638], dtype=object), array([-0.40826543309472046], dtype=object), array([0.1510981437265481], dtype=object), array([0.12126447250388586], dtype=object), array([-0.1549926004589068], dtype=object), array([-0.2796253683447461], dtype=object), array([0.21843973600212002], dtype=object), array([2.62809021903924], dtype=object), array([0.7270217862045705], dtype=object), array([-0.08313965276782183], dtype=object), array([-0.3196553515358304], dtype=object), array([0.5668935198270266], dtype=object)]\n"
     ]
    }
   ],
   "source": []
  },
  {
   "cell_type": "code",
   "execution_count": null,
   "metadata": {},
   "outputs": [],
   "source": []
  }
 ],
 "metadata": {
  "kernelspec": {
   "display_name": "Python 3",
   "language": "python",
   "name": "python3"
  },
  "language_info": {
   "codemirror_mode": {
    "name": "ipython",
    "version": 3
   },
   "file_extension": ".py",
   "mimetype": "text/x-python",
   "name": "python",
   "nbconvert_exporter": "python",
   "pygments_lexer": "ipython3",
   "version": "3.7.4"
  }
 },
 "nbformat": 4,
 "nbformat_minor": 4
}
